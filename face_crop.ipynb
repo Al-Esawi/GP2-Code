{
 "cells": [
  {
   "cell_type": "code",
   "execution_count": null,
   "id": "290661b9",
   "metadata": {},
   "outputs": [
    {
     "name": "stderr",
     "output_type": "stream",
     "text": [
      "Processing bored: 100%|██████████| 358/358 [00:06<00:00, 54.08it/s]\n",
      "Processing confused: 100%|██████████| 369/369 [00:07<00:00, 51.37it/s]\n",
      "Processing drowsy: 100%|██████████| 263/263 [00:03<00:00, 69.55it/s]\n",
      "Processing Engaged: 100%|██████████| 347/347 [00:06<00:00, 51.62it/s]\n",
      "Processing frustrated: 100%|██████████| 360/360 [00:07<00:00, 50.86it/s]\n",
      "Processing Looking Away: 100%|██████████| 423/423 [00:08<00:00, 51.41it/s]\n"
     ]
    }
   ],
   "source": [
    "import os\n",
    "import cv2\n",
    "import mediapipe as mp\n",
    "from tqdm import tqdm\n",
    "\n",
    "\n",
    "input_root = r\"C:\\Users\\user\\Desktop\\GP dataset\\Student engagement\"  \n",
    "output_root = \"mesh\"  \n",
    "\n",
    "\n",
    "mp_face_mesh = mp.solutions.face_mesh\n",
    "face_mesh = mp_face_mesh.FaceMesh(max_num_faces=1, min_detection_confidence=0.5)\n",
    "\n",
    "\n",
    "def crop_face(image):\n",
    "    \n",
    "    rgb_image = cv2.cvtColor(image, cv2.COLOR_BGR2RGB)\n",
    "\n",
    "    \n",
    "    results = face_mesh.process(rgb_image)\n",
    "\n",
    "    if results.multi_face_landmarks:\n",
    "        \n",
    "        landmarks = results.multi_face_landmarks[0]\n",
    "\n",
    "        \n",
    "        h, w, _ = image.shape\n",
    "        min_x = min([landmark.x * w for landmark in landmarks.landmark])\n",
    "        min_y = min([landmark.y * h for landmark in landmarks.landmark])\n",
    "        max_x = max([landmark.x * w for landmark in landmarks.landmark])\n",
    "        max_y = max([landmark.y * h for landmark in landmarks.landmark])\n",
    "\n",
    "        \n",
    "        margin = 0.1\n",
    "        x_exp = int(max(min_x - margin * w, 0))\n",
    "        y_exp = int(max(min_y - margin * h, 0))\n",
    "        x2_exp = int(min(max_x + margin * w, w))\n",
    "        y2_exp = int(min(max_y + margin * h, h))\n",
    "\n",
    "        \n",
    "        cropped_face = image[y_exp:y2_exp, x_exp:x2_exp]\n",
    "        return cropped_face\n",
    "    return None\n",
    "\n",
    "\n",
    "for class_name in os.listdir(input_root):\n",
    "    class_input_path = os.path.join(input_root, class_name)\n",
    "    class_output_path = os.path.join(output_root, class_name)\n",
    "\n",
    "    if not os.path.isdir(class_input_path):\n",
    "        continue\n",
    "    os.makedirs(class_output_path, exist_ok=True)\n",
    "\n",
    "    for img_name in tqdm(os.listdir(class_input_path), desc=f\"Processing {class_name}\"):\n",
    "        input_path = os.path.join(class_input_path, img_name)\n",
    "        output_path = os.path.join(class_output_path, img_name)\n",
    "\n",
    "        img = cv2.imread(input_path)\n",
    "        if img is None:\n",
    "            continue\n",
    "\n",
    "        face = crop_face(img)\n",
    "        if face is not None:\n",
    "            face = cv2.resize(face, (224, 224))  \n",
    "            cv2.imwrite(output_path, face)\n"
   ]
  }
 ],
 "metadata": {
  "kernelspec": {
   "display_name": "Python 3",
   "language": "python",
   "name": "python3"
  },
  "language_info": {
   "codemirror_mode": {
    "name": "ipython",
    "version": 3
   },
   "file_extension": ".py",
   "mimetype": "text/x-python",
   "name": "python",
   "nbconvert_exporter": "python",
   "pygments_lexer": "ipython3",
   "version": "3.9.11"
  }
 },
 "nbformat": 4,
 "nbformat_minor": 5
}
